{
 "cells": [
  {
   "cell_type": "markdown",
   "id": "96d77e0d",
   "metadata": {},
   "source": [
    "# Entrenament SVM: lineal i transformació radial"
   ]
  },
  {
   "cell_type": "code",
   "execution_count": null,
   "id": "a6c688d2",
   "metadata": {},
   "outputs": [],
   "source": [
    "# Uncomment to upgrade packages\n",
    "# !pip install pandas --user --upgrade --quiet\n",
    "# !pip install numpy --user --upgrade --quiet\n",
    "# !pip install scipy --user --upgrade --quiet\n",
    "# !pip install statsmodels --user --upgrade --quiet\n",
    "# !pip install seaborn --user --upgrade --quiet\n",
    "# !pip install scikit-learn --user --upgrade --quiet\n",
    "\n",
    "%load_ext autoreload"
   ]
  },
  {
   "cell_type": "code",
   "execution_count": null,
   "id": "14246c8f",
   "metadata": {},
   "outputs": [],
   "source": [
    "#%matplotlib notebook\n",
    "import numpy as np\n",
    "import matplotlib.pyplot as plt\n",
    "import seaborn as sns\n",
    "import pandas as pd\n",
    "from collections import Counter\n",
    "from IPython.core.interactiveshell import InteractiveShell\n",
    "import warnings\n",
    "\n",
    "\n",
    "InteractiveShell.ast_node_interactivity = \"all\"\n",
    "pd.set_option('display.precision', 3)\n",
    "sns.set()\n",
    "warnings.filterwarnings('ignore')"
   ]
  },
  {
   "cell_type": "code",
   "execution_count": null,
   "id": "794f84d3",
   "metadata": {},
   "outputs": [],
   "source": [
    "# extra imports\n",
    "from pandas import read_csv\n",
    "from sklearn  # svmmmmmmmmmmmmmmmmmmmmmmmmmmmmmmmmmmmmmmmmmmmm\n",
    "from pandas.plotting import scatter_matrix\n",
    "from sklearn import metrics\n",
    "from sklearn.model_selection import GridSearchCV"
   ]
  },
  {
   "cell_type": "code",
   "execution_count": null,
   "id": "8e3b488d",
   "metadata": {},
   "outputs": [],
   "source": [
    "#llegir dades"
   ]
  },
  {
   "cell_type": "markdown",
   "id": "415b198c",
   "metadata": {},
   "source": [
    "## Escollir paràmetres"
   ]
  },
  {
   "cell_type": "code",
   "execution_count": null,
   "id": "fd5dd5e0",
   "metadata": {},
   "outputs": [],
   "source": [
    " = list(range(1,50))\n",
    " = list(range(1,30))\n",
    "=[1,2]\n",
    "hyperparameters = dict(=, =, =)"
   ]
  },
  {
   "cell_type": "markdown",
   "id": "55dbf6d1",
   "metadata": {},
   "source": [
    "### Optimització de hyperparàmetres mitjançant Cross-Validation amb els paràmetres escollits"
   ]
  },
  {
   "cell_type": "code",
   "execution_count": null,
   "id": "4d3db5a3",
   "metadata": {},
   "outputs": [],
   "source": [
    "clf = ()\n",
    "\n",
    "clf = GridSearchCV(clf, hyperparameters, cv=10)\n",
    "\n",
    "clf=clf.fit(Train_subset, Train[\"State\"])\n",
    "\n",
    "train_predictions=clf.predict(Train_subset)\n",
    "val_predictions=clf.predict(Val_subset)"
   ]
  },
  {
   "cell_type": "markdown",
   "id": "dfe882db",
   "metadata": {},
   "source": [
    "## Resultats de les mètriques"
   ]
  },
  {
   "cell_type": "code",
   "execution_count": null,
   "id": "2dc585df",
   "metadata": {},
   "outputs": [],
   "source": [
    "print(metrics.classification_report(Train[\"State\"], train_predictions))\n",
    "print(metrics.classification_report(Val[\"State\"], val_predictions))"
   ]
  },
  {
   "cell_type": "markdown",
   "id": "12fa4485",
   "metadata": {},
   "source": [
    "## Hyperparàmetres escollits"
   ]
  },
  {
   "cell_type": "code",
   "execution_count": null,
   "id": "dae09b0a",
   "metadata": {},
   "outputs": [],
   "source": [
    "print('Best :', clf.best_estimator_.get_params()[''])\n",
    "print('Best :', clf.best_estimator_.get_params()[''])\n",
    "print('Best :', clf.best_estimator_.get_params()['']) "
   ]
  },
  {
   "cell_type": "code",
   "execution_count": null,
   "id": "d10e94d3",
   "metadata": {},
   "outputs": [],
   "source": []
  },
  {
   "cell_type": "code",
   "execution_count": null,
   "id": "d7211d8f",
   "metadata": {},
   "outputs": [],
   "source": []
  },
  {
   "cell_type": "code",
   "execution_count": null,
   "id": "e5c3d59c",
   "metadata": {},
   "outputs": [],
   "source": []
  }
 ],
 "metadata": {
  "kernelspec": {
   "display_name": "Python 3 (ipykernel)",
   "language": "python",
   "name": "python3"
  },
  "language_info": {
   "codemirror_mode": {
    "name": "ipython",
    "version": 3
   },
   "file_extension": ".py",
   "mimetype": "text/x-python",
   "name": "python",
   "nbconvert_exporter": "python",
   "pygments_lexer": "ipython3",
   "version": "3.9.7"
  }
 },
 "nbformat": 4,
 "nbformat_minor": 5
}
