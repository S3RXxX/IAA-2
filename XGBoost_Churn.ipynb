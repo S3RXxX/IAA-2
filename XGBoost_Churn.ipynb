{
 "cells": [
  {
   "cell_type": "code",
   "execution_count": null,
   "id": "77bfb14a",
   "metadata": {},
   "outputs": [],
   "source": []
  },
  {
   "cell_type": "code",
   "execution_count": null,
   "id": "a75ece4a",
   "metadata": {},
   "outputs": [],
   "source": [
    "# Uncomment to upgrade packages\n",
    "# !pip install pandas --user --upgrade --quiet\n",
    "# !pip install numpy --user --upgrade --quiet\n",
    "# !pip install scipy --user --upgrade --quiet\n",
    "# !pip install statsmodels --user --upgrade --quiet\n",
    "# !pip install seaborn --user --upgrade --quiet\n",
    "# !pip install scikit-learn --user --upgrade --quiet\n",
    "\n",
    "%load_ext autoreload"
   ]
  },
  {
   "cell_type": "code",
   "execution_count": null,
   "id": "8b1894af",
   "metadata": {},
   "outputs": [],
   "source": [
    "#%matplotlib notebook\n",
    "import numpy as np\n",
    "import matplotlib.pyplot as plt\n",
    "import seaborn as sns\n",
    "import pandas as pd\n",
    "from collections import Counter\n",
    "from IPython.core.interactiveshell import InteractiveShell\n",
    "import warnings\n",
    "\n",
    "\n",
    "InteractiveShell.ast_node_interactivity = \"all\"\n",
    "pd.set_option('display.precision', 3)\n",
    "sns.set()\n",
    "warnings.filterwarnings('ignore')"
   ]
  },
  {
   "cell_type": "code",
   "execution_count": null,
   "id": "97a51c8a",
   "metadata": {},
   "outputs": [],
   "source": [
    "# extra imports\n",
    "from pandas import read_csv\n",
    "import graphviz\n",
    "from sklearn.ensemble import GradientBoostingClassifier\n",
    "from pandas.plotting import scatter_matrix\n",
    "from sklearn import metrics\n",
    "from sklearn.model_selection import GridSearchCV"
   ]
  },
  {
   "cell_type": "code",
   "execution_count": null,
   "id": "a533ac61",
   "metadata": {},
   "outputs": [],
   "source": [
    "#llegir dades\n",
    "Train = read_csv(\"train_ab.csv\", index_col=0, delimiter=';')\n",
    "Val = read_csv(\"val_ab.csv\", index_col=0, delimiter=';')\n",
    "Train_subset = read_csv(\"train_subset.csv\", index_col=0, delimiter=';')\n",
    "Val_subset = read_csv(\"val_subset.csv\", index_col=0, delimiter=';')"
   ]
  },
  {
   "cell_type": "markdown",
   "id": "812823ee",
   "metadata": {},
   "source": [
    "## Escollir paràmetres"
   ]
  },
  {
   "cell_type": "code",
   "execution_count": null,
   "id": "794859d4",
   "metadata": {},
   "outputs": [],
   "source": [
    "# n_estimators=n, learning_rate=lr, max_depth=k, min_samples_leaf=p\n",
    "max_depth = list(range(1,50))\n",
    "min_samples_leaf = list(range(1,30))\n",
    "n_estimators = list(range(1,30))\n",
    "learning_rate=[0.0001, 0.001, 0.01, 0.1, 1, 2]\n",
    "hyperparameters=dict(max_depth=max_depth,min_samples_leaf=min_samples_leaf,n_estimators=n_estimators,learning_rate=learning_rate)"
   ]
  },
  {
   "cell_type": "markdown",
   "id": "9ed87a2e",
   "metadata": {},
   "source": [
    "### Optimització de hyperparàmetres mitjançant Cross-Validation amb els paràmetres escollits"
   ]
  },
  {
   "cell_type": "code",
   "execution_count": null,
   "id": "6d58e937",
   "metadata": {},
   "outputs": [],
   "source": [
    "clf = GradientBoostingClassifier()\n",
    "\n",
    "clf = GridSearchCV(clf, hyperparameters, cv=10)\n",
    "\n",
    "clf=clf.fit(Train_subset, Train[\"State\"])\n",
    "\n",
    "train_predictions=clf.predict(Train_subset)\n",
    "val_predictions=clf.predict(Val_subset)"
   ]
  },
  {
   "cell_type": "markdown",
   "id": "c80bc1db",
   "metadata": {},
   "source": [
    "## Resultats de les mètriques"
   ]
  },
  {
   "cell_type": "code",
   "execution_count": null,
   "id": "cd3b591b",
   "metadata": {},
   "outputs": [],
   "source": [
    "print(metrics.classification_report(Train[\"State\"], train_predictions))\n",
    "print(metrics.classification_report(Val[\"State\"], val_predictions))"
   ]
  },
  {
   "cell_type": "markdown",
   "id": "4f0c367d",
   "metadata": {},
   "source": [
    "## Hyperparàmetres escollits"
   ]
  },
  {
   "cell_type": "code",
   "execution_count": null,
   "id": "7791cb89",
   "metadata": {},
   "outputs": [],
   "source": [
    "print('Best max_depth:', clf.best_estimator_.get_params()['max_depth'])\n",
    "print('Best min_samples_leaf:', clf.best_estimator_.get_params()['min_samples_leaf'])\n",
    "print('Best n_estimators:', clf.best_estimator_.get_params()['n_estimators'])\n",
    "print('Best learning_rate:', clf.best_estimator_.get_params()['learning_rate'])"
   ]
  },
  {
   "cell_type": "code",
   "execution_count": null,
   "id": "d294cde4",
   "metadata": {},
   "outputs": [],
   "source": []
  },
  {
   "cell_type": "code",
   "execution_count": null,
   "id": "c5c04f95",
   "metadata": {},
   "outputs": [],
   "source": []
  },
  {
   "cell_type": "code",
   "execution_count": null,
   "id": "487755c5",
   "metadata": {},
   "outputs": [],
   "source": []
  },
  {
   "cell_type": "code",
   "execution_count": null,
   "id": "70ebb19d",
   "metadata": {},
   "outputs": [],
   "source": []
  },
  {
   "cell_type": "code",
   "execution_count": null,
   "id": "eed5687e",
   "metadata": {},
   "outputs": [],
   "source": []
  },
  {
   "cell_type": "code",
   "execution_count": null,
   "id": "d319160a",
   "metadata": {},
   "outputs": [],
   "source": []
  },
  {
   "cell_type": "code",
   "execution_count": null,
   "id": "1ed35cc5",
   "metadata": {},
   "outputs": [],
   "source": []
  }
 ],
 "metadata": {
  "kernelspec": {
   "display_name": "Python 3 (ipykernel)",
   "language": "python",
   "name": "python3"
  },
  "language_info": {
   "codemirror_mode": {
    "name": "ipython",
    "version": 3
   },
   "file_extension": ".py",
   "mimetype": "text/x-python",
   "name": "python",
   "nbconvert_exporter": "python",
   "pygments_lexer": "ipython3",
   "version": "3.9.7"
  }
 },
 "nbformat": 4,
 "nbformat_minor": 5
}
