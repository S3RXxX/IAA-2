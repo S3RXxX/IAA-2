{
 "cells": [
  {
   "cell_type": "markdown",
   "id": "e665705c",
   "metadata": {},
   "source": [
    "# Entrenament SVM: rbf"
   ]
  },
  {
   "cell_type": "code",
   "execution_count": 1,
   "id": "ce0db54b",
   "metadata": {},
   "outputs": [],
   "source": [
    "# Uncomment to upgrade packages\n",
    "# !pip install pandas --user --upgrade --quiet\n",
    "# !pip install numpy --user --upgrade --quiet\n",
    "# !pip install scipy --user --upgrade --quiet\n",
    "# !pip install statsmodels --user --upgrade --quiet\n",
    "# !pip install seaborn --user --upgrade --quiet\n",
    "# !pip install scikit-learn --user --upgrade --quiet\n",
    "\n",
    "%load_ext autoreload"
   ]
  },
  {
   "cell_type": "code",
   "execution_count": 2,
   "id": "b43cae68",
   "metadata": {},
   "outputs": [],
   "source": [
    "#%matplotlib notebook\n",
    "import numpy as np\n",
    "import matplotlib.pyplot as plt\n",
    "import seaborn as sns\n",
    "import pandas as pd\n",
    "from collections import Counter\n",
    "from IPython.core.interactiveshell import InteractiveShell\n",
    "import warnings\n",
    "\n",
    "\n",
    "InteractiveShell.ast_node_interactivity = \"all\"\n",
    "pd.set_option('display.precision', 3)\n",
    "sns.set()\n",
    "warnings.filterwarnings('ignore')"
   ]
  },
  {
   "cell_type": "code",
   "execution_count": 3,
   "id": "09a28e71",
   "metadata": {},
   "outputs": [],
   "source": [
    "# extra imports\n",
    "from pandas import read_csv\n",
    "from sklearn.svm import SVC\n",
    "from pandas.plotting import scatter_matrix\n",
    "from sklearn import metrics\n",
    "from sklearn.model_selection import GridSearchCV"
   ]
  },
  {
   "cell_type": "code",
   "execution_count": 4,
   "id": "085a8aba",
   "metadata": {},
   "outputs": [],
   "source": [
    "#llegir dades\n",
    "Train_subset = read_csv(\"train_svm.csv\", index_col=0, delimiter=';')\n",
    "Val_subset = read_csv(\"val_svm.csv\", index_col=0, delimiter=';')\n",
    "\n",
    "y_train = read_csv(\"y_train.csv\", index_col=0, delimiter=';')\n",
    "y_val = read_csv(\"y_val.csv\", index_col=0, delimiter=';')"
   ]
  },
  {
   "cell_type": "markdown",
   "id": "6ff95037",
   "metadata": {},
   "source": [
    "# Escollir paràmetres"
   ]
  },
  {
   "cell_type": "code",
   "execution_count": 5,
   "id": "913e5edc",
   "metadata": {},
   "outputs": [],
   "source": [
    "C = [100000]+[(1/10**p) for p in range(-4,5)]\n",
    "kernel = ['rbf']\n",
    "gamma = [100000]+[(1/10**p) for p in range(-4,5)]\n",
    "hyperparameters = dict(C=C, kernel=kernel, gamma=gamma)"
   ]
  },
  {
   "cell_type": "markdown",
   "id": "bab5dee3",
   "metadata": {},
   "source": [
    "## Optimització de hyperparàmetres mitjançant Cross-Validation amb els paràmetres escollits¶"
   ]
  },
  {
   "cell_type": "code",
   "execution_count": 6,
   "id": "522878bd",
   "metadata": {},
   "outputs": [],
   "source": [
    "clf = SVC()\n",
    "\n",
    "clf = GridSearchCV(clf, hyperparameters, cv=4, scoring='recall')\n",
    "\n",
    "clf=clf.fit(Train_subset, y_train)\n",
    "\n",
    "train_predictions=clf.predict(Train_subset)"
   ]
  },
  {
   "cell_type": "markdown",
   "id": "b640c69b",
   "metadata": {},
   "source": [
    "## Resultats de les mètriques"
   ]
  },
  {
   "cell_type": "code",
   "execution_count": 7,
   "id": "a07e33cc",
   "metadata": {},
   "outputs": [
    {
     "name": "stdout",
     "output_type": "stream",
     "text": [
      "0.8239669421487603\n"
     ]
    }
   ],
   "source": [
    "print(clf.best_score_)"
   ]
  },
  {
   "cell_type": "code",
   "execution_count": 8,
   "id": "4d1ebbed",
   "metadata": {},
   "outputs": [],
   "source": [
    "result = pd.DataFrame(clf.cv_results_)"
   ]
  },
  {
   "cell_type": "markdown",
   "id": "b6b613c1",
   "metadata": {},
   "source": [
    "## Hyperparàmetres escollits"
   ]
  },
  {
   "cell_type": "code",
   "execution_count": 9,
   "id": "e38bca4d",
   "metadata": {},
   "outputs": [
    {
     "name": "stdout",
     "output_type": "stream",
     "text": [
      "SVC(C=100000, gamma=0.0001)\n"
     ]
    }
   ],
   "source": [
    "print(clf.best_estimator_)"
   ]
  },
  {
   "cell_type": "code",
   "execution_count": 10,
   "id": "4fdac638",
   "metadata": {},
   "outputs": [
    {
     "name": "stdout",
     "output_type": "stream",
     "text": [
      "Best C: 100000\n",
      "Best gamma: 0.0001\n"
     ]
    }
   ],
   "source": [
    "print('Best C:', clf.best_estimator_.get_params()['C'])\n",
    "print('Best gamma:', clf.best_estimator_.get_params()['gamma'])"
   ]
  },
  {
   "cell_type": "code",
   "execution_count": null,
   "id": "a9a05559",
   "metadata": {},
   "outputs": [],
   "source": []
  },
  {
   "cell_type": "markdown",
   "id": "366d358e",
   "metadata": {},
   "source": [
    "# Validation fix"
   ]
  },
  {
   "cell_type": "code",
   "execution_count": 11,
   "id": "3ccb98fb",
   "metadata": {},
   "outputs": [
    {
     "data": {
      "text/html": [
       "<style>#sk-container-id-1 {color: black;background-color: white;}#sk-container-id-1 pre{padding: 0;}#sk-container-id-1 div.sk-toggleable {background-color: white;}#sk-container-id-1 label.sk-toggleable__label {cursor: pointer;display: block;width: 100%;margin-bottom: 0;padding: 0.3em;box-sizing: border-box;text-align: center;}#sk-container-id-1 label.sk-toggleable__label-arrow:before {content: \"▸\";float: left;margin-right: 0.25em;color: #696969;}#sk-container-id-1 label.sk-toggleable__label-arrow:hover:before {color: black;}#sk-container-id-1 div.sk-estimator:hover label.sk-toggleable__label-arrow:before {color: black;}#sk-container-id-1 div.sk-toggleable__content {max-height: 0;max-width: 0;overflow: hidden;text-align: left;background-color: #f0f8ff;}#sk-container-id-1 div.sk-toggleable__content pre {margin: 0.2em;color: black;border-radius: 0.25em;background-color: #f0f8ff;}#sk-container-id-1 input.sk-toggleable__control:checked~div.sk-toggleable__content {max-height: 200px;max-width: 100%;overflow: auto;}#sk-container-id-1 input.sk-toggleable__control:checked~label.sk-toggleable__label-arrow:before {content: \"▾\";}#sk-container-id-1 div.sk-estimator input.sk-toggleable__control:checked~label.sk-toggleable__label {background-color: #d4ebff;}#sk-container-id-1 div.sk-label input.sk-toggleable__control:checked~label.sk-toggleable__label {background-color: #d4ebff;}#sk-container-id-1 input.sk-hidden--visually {border: 0;clip: rect(1px 1px 1px 1px);clip: rect(1px, 1px, 1px, 1px);height: 1px;margin: -1px;overflow: hidden;padding: 0;position: absolute;width: 1px;}#sk-container-id-1 div.sk-estimator {font-family: monospace;background-color: #f0f8ff;border: 1px dotted black;border-radius: 0.25em;box-sizing: border-box;margin-bottom: 0.5em;}#sk-container-id-1 div.sk-estimator:hover {background-color: #d4ebff;}#sk-container-id-1 div.sk-parallel-item::after {content: \"\";width: 100%;border-bottom: 1px solid gray;flex-grow: 1;}#sk-container-id-1 div.sk-label:hover label.sk-toggleable__label {background-color: #d4ebff;}#sk-container-id-1 div.sk-serial::before {content: \"\";position: absolute;border-left: 1px solid gray;box-sizing: border-box;top: 0;bottom: 0;left: 50%;z-index: 0;}#sk-container-id-1 div.sk-serial {display: flex;flex-direction: column;align-items: center;background-color: white;padding-right: 0.2em;padding-left: 0.2em;position: relative;}#sk-container-id-1 div.sk-item {position: relative;z-index: 1;}#sk-container-id-1 div.sk-parallel {display: flex;align-items: stretch;justify-content: center;background-color: white;position: relative;}#sk-container-id-1 div.sk-item::before, #sk-container-id-1 div.sk-parallel-item::before {content: \"\";position: absolute;border-left: 1px solid gray;box-sizing: border-box;top: 0;bottom: 0;left: 50%;z-index: -1;}#sk-container-id-1 div.sk-parallel-item {display: flex;flex-direction: column;z-index: 1;position: relative;background-color: white;}#sk-container-id-1 div.sk-parallel-item:first-child::after {align-self: flex-end;width: 50%;}#sk-container-id-1 div.sk-parallel-item:last-child::after {align-self: flex-start;width: 50%;}#sk-container-id-1 div.sk-parallel-item:only-child::after {width: 0;}#sk-container-id-1 div.sk-dashed-wrapped {border: 1px dashed gray;margin: 0 0.4em 0.5em 0.4em;box-sizing: border-box;padding-bottom: 0.4em;background-color: white;}#sk-container-id-1 div.sk-label label {font-family: monospace;font-weight: bold;display: inline-block;line-height: 1.2em;}#sk-container-id-1 div.sk-label-container {text-align: center;}#sk-container-id-1 div.sk-container {/* jupyter's `normalize.less` sets `[hidden] { display: none; }` but bootstrap.min.css set `[hidden] { display: none !important; }` so we also need the `!important` here to be able to override the default hidden behavior on the sphinx rendered scikit-learn.org. See: https://github.com/scikit-learn/scikit-learn/issues/21755 */display: inline-block !important;position: relative;}#sk-container-id-1 div.sk-text-repr-fallback {display: none;}</style><div id=\"sk-container-id-1\" class=\"sk-top-container\"><div class=\"sk-text-repr-fallback\"><pre>SVC(C=100000, gamma=0.0001)</pre><b>In a Jupyter environment, please rerun this cell to show the HTML representation or trust the notebook. <br />On GitHub, the HTML representation is unable to render, please try loading this page with nbviewer.org.</b></div><div class=\"sk-container\" hidden><div class=\"sk-item\"><div class=\"sk-estimator sk-toggleable\"><input class=\"sk-toggleable__control sk-hidden--visually\" id=\"sk-estimator-id-1\" type=\"checkbox\" checked><label for=\"sk-estimator-id-1\" class=\"sk-toggleable__label sk-toggleable__label-arrow\">SVC</label><div class=\"sk-toggleable__content\"><pre>SVC(C=100000, gamma=0.0001)</pre></div></div></div></div></div>"
      ],
      "text/plain": [
       "SVC(C=100000, gamma=0.0001)"
      ]
     },
     "execution_count": 11,
     "metadata": {},
     "output_type": "execute_result"
    }
   ],
   "source": [
    "# entrenem amb els parametres escollits\n",
    "best_clf = SVC(C=clf.best_estimator_.get_params()['C'], gamma=clf.best_estimator_.get_params()['gamma'], kernel='rbf')\n",
    "best_clf.fit(Train_subset, y_train)"
   ]
  },
  {
   "cell_type": "code",
   "execution_count": 12,
   "id": "f1e7f633",
   "metadata": {},
   "outputs": [
    {
     "name": "stdout",
     "output_type": "stream",
     "text": [
      "              precision    recall  f1-score   support\n",
      "\n",
      "           0       0.85      0.76      0.80       330\n",
      "           1       0.78      0.86      0.82       329\n",
      "\n",
      "    accuracy                           0.81       659\n",
      "   macro avg       0.82      0.81      0.81       659\n",
      "weighted avg       0.82      0.81      0.81       659\n",
      "\n"
     ]
    }
   ],
   "source": [
    "# prediccio i metriques\n",
    "y_preds  = best_clf.predict(Val_subset)\n",
    "\n",
    "\n",
    "print(metrics.classification_report(y_val, y_preds))"
   ]
  },
  {
   "cell_type": "code",
   "execution_count": 13,
   "id": "3b7d868a",
   "metadata": {},
   "outputs": [
    {
     "data": {
      "text/plain": [
       "array([[251,  79],\n",
       "       [ 45, 284]], dtype=int64)"
      ]
     },
     "execution_count": 13,
     "metadata": {},
     "output_type": "execute_result"
    }
   ],
   "source": [
    "metrics.confusion_matrix(y_val, y_preds)"
   ]
  },
  {
   "cell_type": "code",
   "execution_count": 14,
   "id": "9f4a4864",
   "metadata": {},
   "outputs": [
    {
     "data": {
      "image/png": "[encoded data removed]",
      "text/plain": [
       "<Figure size 640x480 with 2 Axes>"
      ]
     },
     "metadata": {},
     "output_type": "display_data"
    },
    {
     "data": {
      "text/plain": [
       "<Figure size 1000x700 with 0 Axes>"
      ]
     },
     "metadata": {},
     "output_type": "display_data"
    }
   ],
   "source": [
    "matrix = metrics.confusion_matrix(y_val,  \n",
    "                                            y_preds)#turn this into a dataframe\n",
    "\n",
    "labels = ['stayed', 'churned']  \n",
    "matrix_df = pd.DataFrame(matrix)#plot the result\n",
    "ax = plt.axes()\n",
    "_ = sns.set(font_scale=1.3)\n",
    "_ = plt.figure(figsize=(10,7))\n",
    "_ = sns.heatmap(matrix_df, annot=True, fmt=\"g\", ax=ax, cmap=\"magma\")#set axis titles\n",
    "_ = ax.set_title('Confusion Matrix')\n",
    "_ = ax.set_xlabel(\"Predicted label\", fontsize =15)\n",
    "_ = ax.set_xticklabels(labels)\n",
    "_ = ax.set_ylabel(\"True Label\", fontsize=15)\n",
    "_ = ax.set_yticklabels(labels, rotation = 0)\n",
    "_ = plt.show()"
   ]
  },
  {
   "cell_type": "code",
   "execution_count": null,
   "id": "a8f80628",
   "metadata": {},
   "outputs": [],
   "source": []
  },
  {
   "cell_type": "code",
   "execution_count": null,
   "id": "b7e185b8",
   "metadata": {},
   "outputs": [],
   "source": []
  }
 ],
 "metadata": {
  "kernelspec": {
   "display_name": "Python 3 (ipykernel)",
   "language": "python",
   "name": "python3"
  },
  "language_info": {
   "codemirror_mode": {
    "name": "ipython",
    "version": 3
   },
   "file_extension": ".py",
   "mimetype": "text/x-python",
   "name": "python",
   "nbconvert_exporter": "python",
   "pygments_lexer": "ipython3",
   "version": "3.9.7"
  }
 },
 "nbformat": 4,
 "nbformat_minor": 5
}
