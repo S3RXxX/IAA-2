{
 "cells": [
  {
   "cell_type": "code",
   "execution_count": null,
   "id": "1f7f4936",
   "metadata": {},
   "outputs": [],
   "source": []
  },
  {
   "cell_type": "code",
   "execution_count": null,
   "id": "c6a6eae5",
   "metadata": {},
   "outputs": [],
   "source": [
    "# Uncomment to upgrade packages\n",
    "# !pip install pandas --user --upgrade --quiet\n",
    "# !pip install numpy --user --upgrade --quiet\n",
    "# !pip install scipy --user --upgrade --quiet\n",
    "# !pip install statsmodels --user --upgrade --quiet\n",
    "# !pip install seaborn --user --upgrade --quiet\n",
    "# !pip install scikit-learn --user --upgrade --quiet\n",
    "\n",
    "%load_ext autoreload"
   ]
  },
  {
   "cell_type": "code",
   "execution_count": null,
   "id": "416be429",
   "metadata": {},
   "outputs": [],
   "source": [
    "#%matplotlib notebook\n",
    "import numpy as np\n",
    "import matplotlib.pyplot as plt\n",
    "import seaborn as sns\n",
    "import pandas as pd\n",
    "from collections import Counter\n",
    "from IPython.core.interactiveshell import InteractiveShell\n",
    "import warnings\n",
    "\n",
    "\n",
    "InteractiveShell.ast_node_interactivity = \"all\"\n",
    "pd.set_option('display.precision', 3)\n",
    "sns.set()\n",
    "warnings.filterwarnings('ignore')"
   ]
  },
  {
   "cell_type": "code",
   "execution_count": null,
   "id": "c60ffe5c",
   "metadata": {},
   "outputs": [],
   "source": [
    "# extra imports\n",
    "from pandas import read_csv\n",
    "from sklearn import metrics, tree\n",
    "import graphviz\n",
    "from pandas.plotting import scatter_matrix\n",
    "from sklearn import metrics\n",
    "from sklearn.model_selection import GridSearchCV"
   ]
  },
  {
   "cell_type": "code",
   "execution_count": null,
   "id": "a8b8ea0e",
   "metadata": {},
   "outputs": [],
   "source": [
    "#llegir dades\n",
    "Train = read_csv(\"train_ab.csv\", index_col=0, delimiter=';')\n",
    "Val = read_csv(\"val_ab.csv\", index_col=0, delimiter=';')\n",
    "Train_subset = read_csv(\"train_subset.csv\", index_col=0, delimiter=';')\n",
    "Val_subset = read_csv(\"val_subset.csv\", index_col=0, delimiter=';')"
   ]
  },
  {
   "cell_type": "markdown",
   "id": "1915f72c",
   "metadata": {},
   "source": [
    "## Escollir paràmetres"
   ]
  },
  {
   "cell_type": "code",
   "execution_count": null,
   "id": "44e9f69a",
   "metadata": {},
   "outputs": [],
   "source": [
    "# max_depth=k, min_samples_leaf=p\n",
    "max_depth = list(range(1,50))\n",
    "min_samples_leaf = list(range(1,30))\n",
    "# criterion? Gini\n",
    "hyperparameters = dict(max_depth=max_depth, min_samples_leaf=min_samples_leaf)"
   ]
  },
  {
   "cell_type": "markdown",
   "id": "f3803e2e",
   "metadata": {},
   "source": [
    "### Optimització de hyperparàmetres mitjançant Cross-Validation amb els paràmetres escollits"
   ]
  },
  {
   "cell_type": "code",
   "execution_count": null,
   "id": "a5594b66",
   "metadata": {},
   "outputs": [],
   "source": [
    "clf = tree.DecisionTreeClassifier()\n",
    "\n",
    "clf = GridSearchCV(clf, hyperparameters, cv=10)\n",
    "\n",
    "clf=clf.fit(Train_subset, Train[\"State\"])\n",
    "\n",
    "train_predictions=clf.predict(Train_subset)\n",
    "val_predictions=clf.predict(Val_subset)"
   ]
  },
  {
   "cell_type": "markdown",
   "id": "f0f8c690",
   "metadata": {},
   "source": [
    "## Resultats de les mètriques"
   ]
  },
  {
   "cell_type": "code",
   "execution_count": null,
   "id": "d79c1913",
   "metadata": {},
   "outputs": [],
   "source": [
    "print(metrics.classification_report(Train[\"State\"], train_predictions))\n",
    "print(metrics.classification_report(Val[\"State\"], val_predictions))"
   ]
  },
  {
   "cell_type": "markdown",
   "id": "f638d606",
   "metadata": {},
   "source": [
    "## Hyperparàmetres escollits"
   ]
  },
  {
   "cell_type": "code",
   "execution_count": null,
   "id": "e65ef052",
   "metadata": {},
   "outputs": [],
   "source": [
    "print('Best max_depth:', clf.best_estimator_.get_params()['max_depth'])\n",
    "print('Best min_samples_leaf:', clf.best_estimator_.get_params()['min_samples_leaf'])"
   ]
  },
  {
   "cell_type": "code",
   "execution_count": null,
   "id": "cd5aa197",
   "metadata": {},
   "outputs": [],
   "source": []
  }
 ],
 "metadata": {
  "kernelspec": {
   "display_name": "Python 3 (ipykernel)",
   "language": "python",
   "name": "python3"
  },
  "language_info": {
   "codemirror_mode": {
    "name": "ipython",
    "version": 3
   },
   "file_extension": ".py",
   "mimetype": "text/x-python",
   "name": "python",
   "nbconvert_exporter": "python",
   "pygments_lexer": "ipython3",
   "version": "3.9.7"
  }
 },
 "nbformat": 4,
 "nbformat_minor": 5
}
