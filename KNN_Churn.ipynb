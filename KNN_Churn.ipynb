{
 "cells": [
  {
   "cell_type": "markdown",
   "id": "26b85508",
   "metadata": {},
   "source": [
    "# Variació de K i ponderació per dist"
   ]
  },
  {
   "cell_type": "code",
   "execution_count": 1,
   "id": "75e8efbb",
   "metadata": {},
   "outputs": [],
   "source": [
    "# Uncomment to upgrade packages\n",
    "# !pip install pandas --user --upgrade --quiet\n",
    "# !pip install numpy --user --upgrade --quiet\n",
    "# !pip install scipy --user --upgrade --quiet\n",
    "# !pip install statsmodels --user --upgrade --quiet\n",
    "# !pip install seaborn --user --upgrade --quiet\n",
    "# !pip install scikit-learn --user --upgrade --quiet\n",
    "\n",
    "%load_ext autoreload"
   ]
  },
  {
   "cell_type": "code",
   "execution_count": 2,
   "id": "920eaefb",
   "metadata": {},
   "outputs": [],
   "source": [
    "#%matplotlib notebook\n",
    "import numpy as np\n",
    "import matplotlib.pyplot as plt\n",
    "import seaborn as sns\n",
    "import pandas as pd\n",
    "from collections import Counter\n",
    "from IPython.core.interactiveshell import InteractiveShell\n",
    "import warnings\n",
    "\n",
    "\n",
    "InteractiveShell.ast_node_interactivity = \"all\"\n",
    "pd.set_option('display.precision', 3)\n",
    "sns.set()\n",
    "warnings.filterwarnings('ignore')\n",
    "\n",
    "\n",
    "pd.set_option('display.max_columns', None)"
   ]
  },
  {
   "cell_type": "code",
   "execution_count": 3,
   "id": "e86ffdf2",
   "metadata": {},
   "outputs": [],
   "source": [
    "# extra imports\n",
    "import seaborn as sns\n",
    "from pandas import read_csv\n",
    "from sklearn.neighbors import KNeighborsClassifier\n",
    "from pandas.plotting import scatter_matrix\n",
    "from sklearn import metrics\n",
    "from sklearn.model_selection import GridSearchCV"
   ]
  },
  {
   "cell_type": "code",
   "execution_count": 4,
   "id": "7b068a7d",
   "metadata": {},
   "outputs": [],
   "source": [
    "Train_subset = read_csv(\"train_norm.csv\", index_col=0, delimiter=';')\n",
    "Val_subset = read_csv(\"val_norm.csv\", index_col=0, delimiter=';')\n",
    "\n",
    "y_train = read_csv(\"y_train.csv\", index_col=0, delimiter=';')\n",
    "y_val = read_csv(\"y_val.csv\", index_col=0, delimiter=';')"
   ]
  },
  {
   "cell_type": "markdown",
   "id": "e59304d5",
   "metadata": {},
   "source": [
    "## Escollir paràmetres"
   ]
  },
  {
   "cell_type": "code",
   "execution_count": 6,
   "id": "1dbbafa8",
   "metadata": {},
   "outputs": [],
   "source": [
    "# leaf_size = list(range(1,50))\n",
    "n_neighbors = list(range(1,50))\n",
    "p=[1,2]\n",
    "weights = ['uniform', 'distance']\n",
    "hyperparameters = dict(n_neighbors=n_neighbors, weights=weights, p=p)"
   ]
  },
  {
   "cell_type": "markdown",
   "id": "bc391071",
   "metadata": {},
   "source": [
    "### Optimització de hyperparàmetres mitjançant Cross-Validation amb els paràmetres escollits"
   ]
  },
  {
   "cell_type": "code",
   "execution_count": 6,
   "id": "a5577dca",
   "metadata": {},
   "outputs": [],
   "source": [
    "knn = KNeighborsClassifier(n_neighbors=5)\n",
    "\n",
    "knn=knn.fit(Train_subset, y_train)\n",
    "\n",
    "train_predictions=knn.predict(Train_subset)"
   ]
  },
  {
   "cell_type": "code",
   "execution_count": 7,
   "id": "b3a4a8a6",
   "metadata": {},
   "outputs": [],
   "source": [
    "knn = KNeighborsClassifier()\n",
    "\n",
    "clf = GridSearchCV(knn, hyperparameters, cv=4, scoring='recall')\n",
    "\n",
    "knn=clf.fit(Train_subset, y_train)\n",
    "\n",
    "train_predictions=knn.predict(Train_subset)"
   ]
  },
  {
   "cell_type": "markdown",
   "id": "bd35ff63",
   "metadata": {},
   "source": [
    "## Resultats de les mètriques"
   ]
  },
  {
   "cell_type": "code",
   "execution_count": 8,
   "id": "489041cf",
   "metadata": {},
   "outputs": [
    {
     "data": {
      "text/plain": [
       "0.8768414093064936"
      ]
     },
     "execution_count": 8,
     "metadata": {},
     "output_type": "execute_result"
    }
   ],
   "source": [
    "knn.best_score_"
   ]
  },
  {
   "cell_type": "code",
   "execution_count": 9,
   "id": "3ed5044a",
   "metadata": {},
   "outputs": [
    {
     "name": "stdout",
     "output_type": "stream",
     "text": [
      "0.8768414093064936\n"
     ]
    }
   ],
   "source": [
    "print(clf.best_score_)"
   ]
  },
  {
   "cell_type": "code",
   "execution_count": 10,
   "id": "f7b93c1c",
   "metadata": {},
   "outputs": [],
   "source": [
    "result = pd.DataFrame(knn.cv_results_)"
   ]
  },
  {
   "cell_type": "code",
   "execution_count": 11,
   "id": "0740272d",
   "metadata": {},
   "outputs": [
    {
     "data": {
      "text/html": [
       "<div>\n",
       "<style scoped>\n",
       "    .dataframe tbody tr th:only-of-type {\n",
       "        vertical-align: middle;\n",
       "    }\n",
       "\n",
       "    .dataframe tbody tr th {\n",
       "        vertical-align: top;\n",
       "    }\n",
       "\n",
       "    .dataframe thead th {\n",
       "        text-align: right;\n",
       "    }\n",
       "</style>\n",
       "<table border=\"1\" class=\"dataframe\">\n",
       "  <thead>\n",
       "    <tr style=\"text-align: right;\">\n",
       "      <th></th>\n",
       "      <th>mean_fit_time</th>\n",
       "      <th>std_fit_time</th>\n",
       "      <th>mean_score_time</th>\n",
       "      <th>std_score_time</th>\n",
       "      <th>param_n_neighbors</th>\n",
       "      <th>param_p</th>\n",
       "      <th>param_weights</th>\n",
       "      <th>params</th>\n",
       "      <th>split0_test_score</th>\n",
       "      <th>split1_test_score</th>\n",
       "      <th>split2_test_score</th>\n",
       "      <th>split3_test_score</th>\n",
       "      <th>mean_test_score</th>\n",
       "      <th>std_test_score</th>\n",
       "      <th>rank_test_score</th>\n",
       "    </tr>\n",
       "  </thead>\n",
       "  <tbody>\n",
       "    <tr>\n",
       "      <th>0</th>\n",
       "      <td>0.006</td>\n",
       "      <td>7.069e-04</td>\n",
       "      <td>0.059</td>\n",
       "      <td>5.959e-03</td>\n",
       "      <td>1</td>\n",
       "      <td>1</td>\n",
       "      <td>uniform</td>\n",
       "      <td>{'n_neighbors': 1, 'p': 1, 'weights': 'uniform'}</td>\n",
       "      <td>0.805</td>\n",
       "      <td>0.795</td>\n",
       "      <td>0.762</td>\n",
       "      <td>0.762</td>\n",
       "      <td>0.781</td>\n",
       "      <td>0.020</td>\n",
       "      <td>187</td>\n",
       "    </tr>\n",
       "    <tr>\n",
       "      <th>1</th>\n",
       "      <td>0.006</td>\n",
       "      <td>4.330e-04</td>\n",
       "      <td>0.023</td>\n",
       "      <td>1.071e-06</td>\n",
       "      <td>1</td>\n",
       "      <td>1</td>\n",
       "      <td>distance</td>\n",
       "      <td>{'n_neighbors': 1, 'p': 1, 'weights': 'distance'}</td>\n",
       "      <td>0.805</td>\n",
       "      <td>0.795</td>\n",
       "      <td>0.762</td>\n",
       "      <td>0.762</td>\n",
       "      <td>0.781</td>\n",
       "      <td>0.020</td>\n",
       "      <td>187</td>\n",
       "    </tr>\n",
       "    <tr>\n",
       "      <th>2</th>\n",
       "      <td>0.007</td>\n",
       "      <td>4.681e-04</td>\n",
       "      <td>0.044</td>\n",
       "      <td>8.979e-04</td>\n",
       "      <td>1</td>\n",
       "      <td>2</td>\n",
       "      <td>uniform</td>\n",
       "      <td>{'n_neighbors': 1, 'p': 2, 'weights': 'uniform'}</td>\n",
       "      <td>0.785</td>\n",
       "      <td>0.776</td>\n",
       "      <td>0.768</td>\n",
       "      <td>0.758</td>\n",
       "      <td>0.772</td>\n",
       "      <td>0.010</td>\n",
       "      <td>190</td>\n",
       "    </tr>\n",
       "    <tr>\n",
       "      <th>3</th>\n",
       "      <td>0.006</td>\n",
       "      <td>5.013e-04</td>\n",
       "      <td>0.013</td>\n",
       "      <td>4.993e-04</td>\n",
       "      <td>1</td>\n",
       "      <td>2</td>\n",
       "      <td>distance</td>\n",
       "      <td>{'n_neighbors': 1, 'p': 2, 'weights': 'distance'}</td>\n",
       "      <td>0.785</td>\n",
       "      <td>0.776</td>\n",
       "      <td>0.768</td>\n",
       "      <td>0.758</td>\n",
       "      <td>0.772</td>\n",
       "      <td>0.010</td>\n",
       "      <td>190</td>\n",
       "    </tr>\n",
       "    <tr>\n",
       "      <th>4</th>\n",
       "      <td>0.006</td>\n",
       "      <td>4.331e-04</td>\n",
       "      <td>0.055</td>\n",
       "      <td>4.993e-04</td>\n",
       "      <td>2</td>\n",
       "      <td>1</td>\n",
       "      <td>uniform</td>\n",
       "      <td>{'n_neighbors': 2, 'p': 1, 'weights': 'uniform'}</td>\n",
       "      <td>0.660</td>\n",
       "      <td>0.647</td>\n",
       "      <td>0.649</td>\n",
       "      <td>0.662</td>\n",
       "      <td>0.655</td>\n",
       "      <td>0.007</td>\n",
       "      <td>195</td>\n",
       "    </tr>\n",
       "    <tr>\n",
       "      <th>...</th>\n",
       "      <td>...</td>\n",
       "      <td>...</td>\n",
       "      <td>...</td>\n",
       "      <td>...</td>\n",
       "      <td>...</td>\n",
       "      <td>...</td>\n",
       "      <td>...</td>\n",
       "      <td>...</td>\n",
       "      <td>...</td>\n",
       "      <td>...</td>\n",
       "      <td>...</td>\n",
       "      <td>...</td>\n",
       "      <td>...</td>\n",
       "      <td>...</td>\n",
       "      <td>...</td>\n",
       "    </tr>\n",
       "    <tr>\n",
       "      <th>191</th>\n",
       "      <td>0.006</td>\n",
       "      <td>9.443e-07</td>\n",
       "      <td>0.021</td>\n",
       "      <td>4.332e-04</td>\n",
       "      <td>48</td>\n",
       "      <td>2</td>\n",
       "      <td>distance</td>\n",
       "      <td>{'n_neighbors': 48, 'p': 2, 'weights': 'distan...</td>\n",
       "      <td>0.868</td>\n",
       "      <td>0.908</td>\n",
       "      <td>0.861</td>\n",
       "      <td>0.868</td>\n",
       "      <td>0.876</td>\n",
       "      <td>0.018</td>\n",
       "      <td>3</td>\n",
       "    </tr>\n",
       "    <tr>\n",
       "      <th>192</th>\n",
       "      <td>0.006</td>\n",
       "      <td>7.079e-04</td>\n",
       "      <td>0.062</td>\n",
       "      <td>1.090e-03</td>\n",
       "      <td>49</td>\n",
       "      <td>1</td>\n",
       "      <td>uniform</td>\n",
       "      <td>{'n_neighbors': 49, 'p': 1, 'weights': 'uniform'}</td>\n",
       "      <td>0.861</td>\n",
       "      <td>0.898</td>\n",
       "      <td>0.861</td>\n",
       "      <td>0.861</td>\n",
       "      <td>0.870</td>\n",
       "      <td>0.016</td>\n",
       "      <td>62</td>\n",
       "    </tr>\n",
       "    <tr>\n",
       "      <th>193</th>\n",
       "      <td>0.006</td>\n",
       "      <td>4.319e-04</td>\n",
       "      <td>0.033</td>\n",
       "      <td>8.307e-04</td>\n",
       "      <td>49</td>\n",
       "      <td>1</td>\n",
       "      <td>distance</td>\n",
       "      <td>{'n_neighbors': 49, 'p': 1, 'weights': 'distan...</td>\n",
       "      <td>0.865</td>\n",
       "      <td>0.898</td>\n",
       "      <td>0.864</td>\n",
       "      <td>0.871</td>\n",
       "      <td>0.874</td>\n",
       "      <td>0.014</td>\n",
       "      <td>9</td>\n",
       "    </tr>\n",
       "    <tr>\n",
       "      <th>194</th>\n",
       "      <td>0.006</td>\n",
       "      <td>4.326e-04</td>\n",
       "      <td>0.054</td>\n",
       "      <td>1.920e-03</td>\n",
       "      <td>49</td>\n",
       "      <td>2</td>\n",
       "      <td>uniform</td>\n",
       "      <td>{'n_neighbors': 49, 'p': 2, 'weights': 'uniform'}</td>\n",
       "      <td>0.865</td>\n",
       "      <td>0.888</td>\n",
       "      <td>0.854</td>\n",
       "      <td>0.868</td>\n",
       "      <td>0.869</td>\n",
       "      <td>0.012</td>\n",
       "      <td>82</td>\n",
       "    </tr>\n",
       "    <tr>\n",
       "      <th>195</th>\n",
       "      <td>0.007</td>\n",
       "      <td>5.016e-04</td>\n",
       "      <td>0.022</td>\n",
       "      <td>1.224e-03</td>\n",
       "      <td>49</td>\n",
       "      <td>2</td>\n",
       "      <td>distance</td>\n",
       "      <td>{'n_neighbors': 49, 'p': 2, 'weights': 'distan...</td>\n",
       "      <td>0.865</td>\n",
       "      <td>0.908</td>\n",
       "      <td>0.861</td>\n",
       "      <td>0.861</td>\n",
       "      <td>0.874</td>\n",
       "      <td>0.020</td>\n",
       "      <td>25</td>\n",
       "    </tr>\n",
       "  </tbody>\n",
       "</table>\n",
       "<p>196 rows × 15 columns</p>\n",
       "</div>"
      ],
      "text/plain": [
       "     mean_fit_time  std_fit_time  mean_score_time  std_score_time  \\\n",
       "0            0.006     7.069e-04            0.059       5.959e-03   \n",
       "1            0.006     4.330e-04            0.023       1.071e-06   \n",
       "2            0.007     4.681e-04            0.044       8.979e-04   \n",
       "3            0.006     5.013e-04            0.013       4.993e-04   \n",
       "4            0.006     4.331e-04            0.055       4.993e-04   \n",
       "..             ...           ...              ...             ...   \n",
       "191          0.006     9.443e-07            0.021       4.332e-04   \n",
       "192          0.006     7.079e-04            0.062       1.090e-03   \n",
       "193          0.006     4.319e-04            0.033       8.307e-04   \n",
       "194          0.006     4.326e-04            0.054       1.920e-03   \n",
       "195          0.007     5.016e-04            0.022       1.224e-03   \n",
       "\n",
       "    param_n_neighbors param_p param_weights  \\\n",
       "0                   1       1       uniform   \n",
       "1                   1       1      distance   \n",
       "2                   1       2       uniform   \n",
       "3                   1       2      distance   \n",
       "4                   2       1       uniform   \n",
       "..                ...     ...           ...   \n",
       "191                48       2      distance   \n",
       "192                49       1       uniform   \n",
       "193                49       1      distance   \n",
       "194                49       2       uniform   \n",
       "195                49       2      distance   \n",
       "\n",
       "                                                params  split0_test_score  \\\n",
       "0     {'n_neighbors': 1, 'p': 1, 'weights': 'uniform'}              0.805   \n",
       "1    {'n_neighbors': 1, 'p': 1, 'weights': 'distance'}              0.805   \n",
       "2     {'n_neighbors': 1, 'p': 2, 'weights': 'uniform'}              0.785   \n",
       "3    {'n_neighbors': 1, 'p': 2, 'weights': 'distance'}              0.785   \n",
       "4     {'n_neighbors': 2, 'p': 1, 'weights': 'uniform'}              0.660   \n",
       "..                                                 ...                ...   \n",
       "191  {'n_neighbors': 48, 'p': 2, 'weights': 'distan...              0.868   \n",
       "192  {'n_neighbors': 49, 'p': 1, 'weights': 'uniform'}              0.861   \n",
       "193  {'n_neighbors': 49, 'p': 1, 'weights': 'distan...              0.865   \n",
       "194  {'n_neighbors': 49, 'p': 2, 'weights': 'uniform'}              0.865   \n",
       "195  {'n_neighbors': 49, 'p': 2, 'weights': 'distan...              0.865   \n",
       "\n",
       "     split1_test_score  split2_test_score  split3_test_score  mean_test_score  \\\n",
       "0                0.795              0.762              0.762            0.781   \n",
       "1                0.795              0.762              0.762            0.781   \n",
       "2                0.776              0.768              0.758            0.772   \n",
       "3                0.776              0.768              0.758            0.772   \n",
       "4                0.647              0.649              0.662            0.655   \n",
       "..                 ...                ...                ...              ...   \n",
       "191              0.908              0.861              0.868            0.876   \n",
       "192              0.898              0.861              0.861            0.870   \n",
       "193              0.898              0.864              0.871            0.874   \n",
       "194              0.888              0.854              0.868            0.869   \n",
       "195              0.908              0.861              0.861            0.874   \n",
       "\n",
       "     std_test_score  rank_test_score  \n",
       "0             0.020              187  \n",
       "1             0.020              187  \n",
       "2             0.010              190  \n",
       "3             0.010              190  \n",
       "4             0.007              195  \n",
       "..              ...              ...  \n",
       "191           0.018                3  \n",
       "192           0.016               62  \n",
       "193           0.014                9  \n",
       "194           0.012               82  \n",
       "195           0.020               25  \n",
       "\n",
       "[196 rows x 15 columns]"
      ]
     },
     "execution_count": 11,
     "metadata": {},
     "output_type": "execute_result"
    }
   ],
   "source": [
    "# result = result.sort_values(\"mean_test_f1\", ascending=False)\n",
    "result"
   ]
  },
  {
   "cell_type": "code",
   "execution_count": 12,
   "id": "756f1f99",
   "metadata": {},
   "outputs": [],
   "source": [
    "\n",
    "\n",
    "# sns.lineplot(data=result, x=\"param_n_neighbors\", y=\"mean_test_f1\", hue=\"param_metric\")\n",
    "# plt.legend(loc='lower right')"
   ]
  },
  {
   "cell_type": "code",
   "execution_count": null,
   "id": "6f42db9e",
   "metadata": {},
   "outputs": [],
   "source": []
  },
  {
   "cell_type": "code",
   "execution_count": null,
   "id": "087595ad",
   "metadata": {},
   "outputs": [],
   "source": []
  },
  {
   "cell_type": "code",
   "execution_count": null,
   "id": "914d37ec",
   "metadata": {},
   "outputs": [],
   "source": []
  },
  {
   "cell_type": "markdown",
   "id": "760b559a",
   "metadata": {},
   "source": [
    "## Hyperparàmetres escollits"
   ]
  },
  {
   "cell_type": "code",
   "execution_count": 13,
   "id": "5891aff7",
   "metadata": {},
   "outputs": [
    {
     "name": "stdout",
     "output_type": "stream",
     "text": [
      "KNeighborsClassifier(n_neighbors=46, weights='distance')\n"
     ]
    }
   ],
   "source": [
    "print(knn.best_estimator_)"
   ]
  },
  {
   "cell_type": "code",
   "execution_count": 14,
   "id": "69f4e9d9",
   "metadata": {},
   "outputs": [
    {
     "name": "stdout",
     "output_type": "stream",
     "text": [
      "Best p: 2\n",
      "Best n_neighbors: 46\n",
      "Best pond: distance\n"
     ]
    }
   ],
   "source": [
    "# print('Best leaf_size:', knn.best_estimator_.get_params()['leaf_size'])\n",
    "print('Best p:', knn.best_estimator_.get_params()['p'])\n",
    "print('Best n_neighbors:', knn.best_estimator_.get_params()['n_neighbors'])  #K\n",
    "print('Best pond:', knn.best_estimator_.get_params()['weights'])"
   ]
  },
  {
   "cell_type": "code",
   "execution_count": null,
   "id": "6281b9a7",
   "metadata": {},
   "outputs": [],
   "source": []
  },
  {
   "cell_type": "markdown",
   "id": "b62a6800",
   "metadata": {},
   "source": [
    "# Validation fix"
   ]
  },
  {
   "cell_type": "code",
   "execution_count": 15,
   "id": "2c7804fb",
   "metadata": {},
   "outputs": [
    {
     "data": {
      "text/html": [
       "<style>#sk-container-id-1 {color: black;background-color: white;}#sk-container-id-1 pre{padding: 0;}#sk-container-id-1 div.sk-toggleable {background-color: white;}#sk-container-id-1 label.sk-toggleable__label {cursor: pointer;display: block;width: 100%;margin-bottom: 0;padding: 0.3em;box-sizing: border-box;text-align: center;}#sk-container-id-1 label.sk-toggleable__label-arrow:before {content: \"▸\";float: left;margin-right: 0.25em;color: #696969;}#sk-container-id-1 label.sk-toggleable__label-arrow:hover:before {color: black;}#sk-container-id-1 div.sk-estimator:hover label.sk-toggleable__label-arrow:before {color: black;}#sk-container-id-1 div.sk-toggleable__content {max-height: 0;max-width: 0;overflow: hidden;text-align: left;background-color: #f0f8ff;}#sk-container-id-1 div.sk-toggleable__content pre {margin: 0.2em;color: black;border-radius: 0.25em;background-color: #f0f8ff;}#sk-container-id-1 input.sk-toggleable__control:checked~div.sk-toggleable__content {max-height: 200px;max-width: 100%;overflow: auto;}#sk-container-id-1 input.sk-toggleable__control:checked~label.sk-toggleable__label-arrow:before {content: \"▾\";}#sk-container-id-1 div.sk-estimator input.sk-toggleable__control:checked~label.sk-toggleable__label {background-color: #d4ebff;}#sk-container-id-1 div.sk-label input.sk-toggleable__control:checked~label.sk-toggleable__label {background-color: #d4ebff;}#sk-container-id-1 input.sk-hidden--visually {border: 0;clip: rect(1px 1px 1px 1px);clip: rect(1px, 1px, 1px, 1px);height: 1px;margin: -1px;overflow: hidden;padding: 0;position: absolute;width: 1px;}#sk-container-id-1 div.sk-estimator {font-family: monospace;background-color: #f0f8ff;border: 1px dotted black;border-radius: 0.25em;box-sizing: border-box;margin-bottom: 0.5em;}#sk-container-id-1 div.sk-estimator:hover {background-color: #d4ebff;}#sk-container-id-1 div.sk-parallel-item::after {content: \"\";width: 100%;border-bottom: 1px solid gray;flex-grow: 1;}#sk-container-id-1 div.sk-label:hover label.sk-toggleable__label {background-color: #d4ebff;}#sk-container-id-1 div.sk-serial::before {content: \"\";position: absolute;border-left: 1px solid gray;box-sizing: border-box;top: 0;bottom: 0;left: 50%;z-index: 0;}#sk-container-id-1 div.sk-serial {display: flex;flex-direction: column;align-items: center;background-color: white;padding-right: 0.2em;padding-left: 0.2em;position: relative;}#sk-container-id-1 div.sk-item {position: relative;z-index: 1;}#sk-container-id-1 div.sk-parallel {display: flex;align-items: stretch;justify-content: center;background-color: white;position: relative;}#sk-container-id-1 div.sk-item::before, #sk-container-id-1 div.sk-parallel-item::before {content: \"\";position: absolute;border-left: 1px solid gray;box-sizing: border-box;top: 0;bottom: 0;left: 50%;z-index: -1;}#sk-container-id-1 div.sk-parallel-item {display: flex;flex-direction: column;z-index: 1;position: relative;background-color: white;}#sk-container-id-1 div.sk-parallel-item:first-child::after {align-self: flex-end;width: 50%;}#sk-container-id-1 div.sk-parallel-item:last-child::after {align-self: flex-start;width: 50%;}#sk-container-id-1 div.sk-parallel-item:only-child::after {width: 0;}#sk-container-id-1 div.sk-dashed-wrapped {border: 1px dashed gray;margin: 0 0.4em 0.5em 0.4em;box-sizing: border-box;padding-bottom: 0.4em;background-color: white;}#sk-container-id-1 div.sk-label label {font-family: monospace;font-weight: bold;display: inline-block;line-height: 1.2em;}#sk-container-id-1 div.sk-label-container {text-align: center;}#sk-container-id-1 div.sk-container {/* jupyter's `normalize.less` sets `[hidden] { display: none; }` but bootstrap.min.css set `[hidden] { display: none !important; }` so we also need the `!important` here to be able to override the default hidden behavior on the sphinx rendered scikit-learn.org. See: https://github.com/scikit-learn/scikit-learn/issues/21755 */display: inline-block !important;position: relative;}#sk-container-id-1 div.sk-text-repr-fallback {display: none;}</style><div id=\"sk-container-id-1\" class=\"sk-top-container\"><div class=\"sk-text-repr-fallback\"><pre>KNeighborsClassifier(n_neighbors=46, weights=&#x27;distance&#x27;)</pre><b>In a Jupyter environment, please rerun this cell to show the HTML representation or trust the notebook. <br />On GitHub, the HTML representation is unable to render, please try loading this page with nbviewer.org.</b></div><div class=\"sk-container\" hidden><div class=\"sk-item\"><div class=\"sk-estimator sk-toggleable\"><input class=\"sk-toggleable__control sk-hidden--visually\" id=\"sk-estimator-id-1\" type=\"checkbox\" checked><label for=\"sk-estimator-id-1\" class=\"sk-toggleable__label sk-toggleable__label-arrow\">KNeighborsClassifier</label><div class=\"sk-toggleable__content\"><pre>KNeighborsClassifier(n_neighbors=46, weights=&#x27;distance&#x27;)</pre></div></div></div></div></div>"
      ],
      "text/plain": [
       "KNeighborsClassifier(n_neighbors=46, weights='distance')"
      ]
     },
     "execution_count": 15,
     "metadata": {},
     "output_type": "execute_result"
    }
   ],
   "source": [
    "# entrenem amb els parametres escollits\n",
    "best_knn = KNeighborsClassifier(n_neighbors=knn.best_estimator_.get_params()['n_neighbors'],\n",
    "                                p=knn.best_estimator_.get_params()['p'], weights=knn.best_estimator_.get_params()['weights'])\n",
    "best_knn.fit(Train_subset, y_train)"
   ]
  },
  {
   "cell_type": "code",
   "execution_count": 16,
   "id": "8cbccecb",
   "metadata": {},
   "outputs": [
    {
     "name": "stdout",
     "output_type": "stream",
     "text": [
      "              precision    recall  f1-score   support\n",
      "\n",
      "           0       0.84      0.72      0.78       330\n",
      "           1       0.76      0.87      0.81       329\n",
      "\n",
      "    accuracy                           0.80       659\n",
      "   macro avg       0.80      0.80      0.79       659\n",
      "weighted avg       0.80      0.80      0.79       659\n",
      "\n"
     ]
    }
   ],
   "source": [
    "# prediccio i metriques\n",
    "y_preds  = best_knn.predict(Val_subset)\n",
    "\n",
    "\n",
    "print(metrics.classification_report(y_val, y_preds))"
   ]
  },
  {
   "cell_type": "code",
   "execution_count": 17,
   "id": "aca6dd0b",
   "metadata": {},
   "outputs": [
    {
     "data": {
      "text/plain": [
       "array([[239,  91],\n",
       "       [ 44, 285]], dtype=int64)"
      ]
     },
     "execution_count": 17,
     "metadata": {},
     "output_type": "execute_result"
    }
   ],
   "source": [
    "metrics.confusion_matrix(y_val, y_preds)"
   ]
  },
  {
   "cell_type": "code",
   "execution_count": 18,
   "id": "48dc337e",
   "metadata": {},
   "outputs": [
    {
     "data": {
      "image/png": "[encoded data removed]",
      "text/plain": [
       "<Figure size 640x480 with 2 Axes>"
      ]
     },
     "metadata": {},
     "output_type": "display_data"
    },
    {
     "data": {
      "text/plain": [
       "<Figure size 1000x700 with 0 Axes>"
      ]
     },
     "metadata": {},
     "output_type": "display_data"
    }
   ],
   "source": [
    "matrix = metrics.confusion_matrix(y_val,  \n",
    "                                            y_preds)#turn this into a dataframe\n",
    "\n",
    "labels = ['stayed', 'churned']  \n",
    "matrix_df = pd.DataFrame(matrix)#plot the result\n",
    "ax = plt.axes()\n",
    "_ = sns.set(font_scale=1.3)\n",
    "_ = plt.figure(figsize=(10,7))\n",
    "_ = sns.heatmap(matrix_df, annot=True, fmt=\"g\", ax=ax, cmap=\"magma\")#set axis titles\n",
    "_ = ax.set_title('Confusion Matrix')\n",
    "_ = ax.set_xlabel(\"Predicted label\", fontsize =15)\n",
    "_ = ax.set_xticklabels(labels)\n",
    "_ = ax.set_ylabel(\"True Label\", fontsize=15)\n",
    "_ = ax.set_yticklabels(labels, rotation = 0)\n",
    "_ = plt.show()"
   ]
  },
  {
   "cell_type": "code",
   "execution_count": null,
   "id": "067a1de3",
   "metadata": {},
   "outputs": [],
   "source": []
  }
 ],
 "metadata": {
  "kernelspec": {
   "display_name": "Python 3 (ipykernel)",
   "language": "python",
   "name": "python3"
  },
  "language_info": {
   "codemirror_mode": {
    "name": "ipython",
    "version": 3
   },
   "file_extension": ".py",
   "mimetype": "text/x-python",
   "name": "python",
   "nbconvert_exporter": "python",
   "pygments_lexer": "ipython3",
   "version": "3.11.1"
  }
 },
 "nbformat": 4,
 "nbformat_minor": 5
}
