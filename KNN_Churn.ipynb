{
 "cells": [
  {
   "cell_type": "markdown",
   "id": "26b85508",
   "metadata": {},
   "source": [
    "# Variació de K i ponderació per dist"
   ]
  },
  {
   "cell_type": "code",
   "execution_count": 1,
   "id": "75e8efbb",
   "metadata": {},
   "outputs": [],
   "source": [
    "# Uncomment to upgrade packages\n",
    "# !pip install pandas --user --upgrade --quiet\n",
    "# !pip install numpy --user --upgrade --quiet\n",
    "# !pip install scipy --user --upgrade --quiet\n",
    "# !pip install statsmodels --user --upgrade --quiet\n",
    "# !pip install seaborn --user --upgrade --quiet\n",
    "# !pip install scikit-learn --user --upgrade --quiet\n",
    "\n",
    "%load_ext autoreload"
   ]
  },
  {
   "cell_type": "code",
   "execution_count": 2,
   "id": "920eaefb",
   "metadata": {},
   "outputs": [],
   "source": [
    "#%matplotlib notebook\n",
    "import numpy as np\n",
    "import matplotlib.pyplot as plt\n",
    "import seaborn as sns\n",
    "import pandas as pd\n",
    "from collections import Counter\n",
    "from IPython.core.interactiveshell import InteractiveShell\n",
    "import warnings\n",
    "\n",
    "\n",
    "InteractiveShell.ast_node_interactivity = \"all\"\n",
    "pd.set_option('display.precision', 3)\n",
    "sns.set()\n",
    "warnings.filterwarnings('ignore')"
   ]
  },
  {
   "cell_type": "code",
   "execution_count": 3,
   "id": "e86ffdf2",
   "metadata": {},
   "outputs": [],
   "source": [
    "# extra imports\n",
    "from pandas import read_csv\n",
    "from sklearn.neighbors import KNeighborsClassifier\n",
    "from pandas.plotting import scatter_matrix\n",
    "from sklearn import metrics\n",
    "from sklearn.model_selection import GridSearchCV"
   ]
  },
  {
   "cell_type": "code",
   "execution_count": 4,
   "id": "7b068a7d",
   "metadata": {},
   "outputs": [],
   "source": [
    "Train_norm = read_csv(\"train_norm.csv\", index_col=0, delimiter=';')\n",
    "\n",
    "Train_subset = Train_norm.drop(columns=['Customer Status'])\n"
   ]
  },
  {
   "cell_type": "markdown",
   "id": "e59304d5",
   "metadata": {},
   "source": [
    "## Escollir paràmetres"
   ]
  },
  {
   "cell_type": "code",
   "execution_count": 5,
   "id": "1dbbafa8",
   "metadata": {},
   "outputs": [],
   "source": [
    "# leaf_size = list(range(1,50))\n",
    "n_neighbors = list(range(1,30))\n",
    "p=[1,2]\n",
    "weights = ['uniform', 'distance']  # afegir pesossssssssssssssssssssssssssssssssssssssssssssssssssssssssdkaofa\n",
    "hyperparameters = dict(n_neighbors=n_neighbors, weights=weights, p=p)"
   ]
  },
  {
   "cell_type": "markdown",
   "id": "bc391071",
   "metadata": {},
   "source": [
    "### Optimització de hyperparàmetres mitjançant Cross-Validation amb els paràmetres escollits"
   ]
  },
  {
   "cell_type": "code",
   "execution_count": 6,
   "id": "46552ac0",
   "metadata": {},
   "outputs": [],
   "source": [
    "# numerical_columns = Train_norm.dtypes[Train_norm.dtypes!='object'].index\n",
    "# Train_subset = Train_subset[numerical_columns]"
   ]
  },
  {
   "cell_type": "code",
   "execution_count": 7,
   "id": "a5577dca",
   "metadata": {},
   "outputs": [],
   "source": [
    "knn = KNeighborsClassifier(n_neighbors=5)\n",
    "\n",
    "knn=knn.fit(Train_subset, Train_norm[\"Customer Status\"])\n",
    "\n",
    "train_predictions=knn.predict(Train_subset)"
   ]
  },
  {
   "cell_type": "code",
   "execution_count": 8,
   "id": "b3a4a8a6",
   "metadata": {},
   "outputs": [],
   "source": [
    "knn = KNeighborsClassifier()\n",
    "\n",
    "clf = GridSearchCV(knn, hyperparameters, cv=10)\n",
    "\n",
    "knn=clf.fit(Train_subset, Train_norm[\"Customer Status\"])\n",
    "\n",
    "train_predictions=knn.predict(Train_subset)"
   ]
  },
  {
   "cell_type": "markdown",
   "id": "bd35ff63",
   "metadata": {},
   "source": [
    "## Resultats de les mètriques"
   ]
  },
  {
   "cell_type": "code",
   "execution_count": 9,
   "id": "ee5c7aba",
   "metadata": {},
   "outputs": [
    {
     "name": "stdout",
     "output_type": "stream",
     "text": [
      "              precision    recall  f1-score   support\n",
      "\n",
      "     Churned       1.00      1.00      1.00      1634\n",
      "      Joined       1.00      1.00      1.00       219\n",
      "      Stayed       1.00      1.00      1.00      4485\n",
      "\n",
      "    accuracy                           1.00      6338\n",
      "   macro avg       1.00      1.00      1.00      6338\n",
      "weighted avg       1.00      1.00      1.00      6338\n",
      "\n"
     ]
    }
   ],
   "source": [
    "print(metrics.classification_report(Train_norm[\"Customer Status\"], train_predictions))"
   ]
  },
  {
   "cell_type": "markdown",
   "id": "760b559a",
   "metadata": {},
   "source": [
    "## Hyperparàmetres escollits"
   ]
  },
  {
   "cell_type": "code",
   "execution_count": 15,
   "id": "69f4e9d9",
   "metadata": {},
   "outputs": [
    {
     "name": "stdout",
     "output_type": "stream",
     "text": [
      "Best p: 1\n",
      "Best n_neighbors: 27\n",
      "Best pond: distance\n"
     ]
    }
   ],
   "source": [
    "# print('Best leaf_size:', knn.best_estimator_.get_params()['leaf_size'])\n",
    "print('Best p:', knn.best_estimator_.get_params()['p'])\n",
    "print('Best n_neighbors:', knn.best_estimator_.get_params()['n_neighbors'])  #K\n",
    "print('Best pond:', knn.best_estimator_.get_params()['weights'])"
   ]
  },
  {
   "cell_type": "code",
   "execution_count": null,
   "id": "6281b9a7",
   "metadata": {},
   "outputs": [],
   "source": []
  },
  {
   "cell_type": "code",
   "execution_count": null,
   "id": "03c0715e",
   "metadata": {},
   "outputs": [],
   "source": []
  },
  {
   "cell_type": "code",
   "execution_count": null,
   "id": "067a1de3",
   "metadata": {},
   "outputs": [],
   "source": []
  },
  {
   "cell_type": "markdown",
   "id": "0e80759d",
   "metadata": {},
   "source": [
    "# Comprovació de que està passant\n",
    "# Totalment prohibit incluir això"
   ]
  },
  {
   "cell_type": "code",
   "execution_count": 11,
   "id": "c6516f3d",
   "metadata": {},
   "outputs": [],
   "source": [
    "Test_norm = read_csv(\"test_norm.csv\", index_col=0, delimiter=';')\n",
    "\n",
    "Test_subset = Test_norm.drop(columns=['Customer Status'])"
   ]
  },
  {
   "cell_type": "code",
   "execution_count": 12,
   "id": "d1fc5529",
   "metadata": {},
   "outputs": [],
   "source": [
    "# Test_subset = Test_subset[numerical_columns]"
   ]
  },
  {
   "cell_type": "code",
   "execution_count": 13,
   "id": "71c87523",
   "metadata": {},
   "outputs": [],
   "source": [
    "test_predictions=knn.predict(Test_subset)"
   ]
  },
  {
   "cell_type": "code",
   "execution_count": 14,
   "id": "e42559c4",
   "metadata": {},
   "outputs": [
    {
     "name": "stdout",
     "output_type": "stream",
     "text": [
      "              precision    recall  f1-score   support\n",
      "\n",
      "     Churned       0.44      0.59      0.50       235\n",
      "      Joined       0.87      0.11      0.20       235\n",
      "      Stayed       0.58      0.88      0.69       235\n",
      "\n",
      "    accuracy                           0.53       705\n",
      "   macro avg       0.63      0.53      0.46       705\n",
      "weighted avg       0.63      0.53      0.46       705\n",
      "\n"
     ]
    }
   ],
   "source": [
    "print(metrics.classification_report(Test_norm[\"Customer Status\"], test_predictions))"
   ]
  }
 ],
 "metadata": {
  "kernelspec": {
   "display_name": "Python 3 (ipykernel)",
   "language": "python",
   "name": "python3"
  },
  "language_info": {
   "codemirror_mode": {
    "name": "ipython",
    "version": 3
   },
   "file_extension": ".py",
   "mimetype": "text/x-python",
   "name": "python",
   "nbconvert_exporter": "python",
   "pygments_lexer": "ipython3",
   "version": "3.9.7"
  }
 },
 "nbformat": 4,
 "nbformat_minor": 5
}
